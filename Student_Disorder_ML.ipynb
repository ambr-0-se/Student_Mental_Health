{
 "cells": [
  {
   "cell_type": "code",
   "execution_count": 1,
   "metadata": {},
   "outputs": [],
   "source": [
    "import numpy as np\n",
    "import pandas as pd\n",
    "import matplotlib.pyplot as plt\n",
    "import seaborn as sns\n",
    "import datetime\n",
    "import random\n",
    "import os\n",
    "\n",
    "df = pd.read_csv('Data/Student_Mental_health.csv')"
   ]
  },
  {
   "cell_type": "code",
   "execution_count": 2,
   "metadata": {},
   "outputs": [
    {
     "data": {
      "text/html": [
       "<div>\n",
       "<style scoped>\n",
       "    .dataframe tbody tr th:only-of-type {\n",
       "        vertical-align: middle;\n",
       "    }\n",
       "\n",
       "    .dataframe tbody tr th {\n",
       "        vertical-align: top;\n",
       "    }\n",
       "\n",
       "    .dataframe thead th {\n",
       "        text-align: right;\n",
       "    }\n",
       "</style>\n",
       "<table border=\"1\" class=\"dataframe\">\n",
       "  <thead>\n",
       "    <tr style=\"text-align: right;\">\n",
       "      <th></th>\n",
       "      <th>Timestamp</th>\n",
       "      <th>Choose your gender</th>\n",
       "      <th>Age</th>\n",
       "      <th>What is your course?</th>\n",
       "      <th>Your current year of Study</th>\n",
       "      <th>What is your CGPA?</th>\n",
       "      <th>Marital status</th>\n",
       "      <th>Do you have Depression?</th>\n",
       "      <th>Do you have Anxiety?</th>\n",
       "      <th>Do you have Panic attack?</th>\n",
       "      <th>Did you seek any specialist for a treatment?</th>\n",
       "    </tr>\n",
       "  </thead>\n",
       "  <tbody>\n",
       "    <tr>\n",
       "      <th>0</th>\n",
       "      <td>8/7/2020 12:02</td>\n",
       "      <td>Female</td>\n",
       "      <td>18.0</td>\n",
       "      <td>Engineering</td>\n",
       "      <td>year 1</td>\n",
       "      <td>3.00 - 3.49</td>\n",
       "      <td>No</td>\n",
       "      <td>Yes</td>\n",
       "      <td>No</td>\n",
       "      <td>Yes</td>\n",
       "      <td>No</td>\n",
       "    </tr>\n",
       "    <tr>\n",
       "      <th>1</th>\n",
       "      <td>8/7/2020 12:04</td>\n",
       "      <td>Male</td>\n",
       "      <td>21.0</td>\n",
       "      <td>Islamic education</td>\n",
       "      <td>year 2</td>\n",
       "      <td>3.00 - 3.49</td>\n",
       "      <td>No</td>\n",
       "      <td>No</td>\n",
       "      <td>Yes</td>\n",
       "      <td>No</td>\n",
       "      <td>No</td>\n",
       "    </tr>\n",
       "    <tr>\n",
       "      <th>2</th>\n",
       "      <td>8/7/2020 12:05</td>\n",
       "      <td>Male</td>\n",
       "      <td>19.0</td>\n",
       "      <td>BIT</td>\n",
       "      <td>Year 1</td>\n",
       "      <td>3.00 - 3.49</td>\n",
       "      <td>No</td>\n",
       "      <td>Yes</td>\n",
       "      <td>Yes</td>\n",
       "      <td>Yes</td>\n",
       "      <td>No</td>\n",
       "    </tr>\n",
       "    <tr>\n",
       "      <th>3</th>\n",
       "      <td>8/7/2020 12:06</td>\n",
       "      <td>Female</td>\n",
       "      <td>22.0</td>\n",
       "      <td>Laws</td>\n",
       "      <td>year 3</td>\n",
       "      <td>3.00 - 3.49</td>\n",
       "      <td>Yes</td>\n",
       "      <td>Yes</td>\n",
       "      <td>No</td>\n",
       "      <td>No</td>\n",
       "      <td>No</td>\n",
       "    </tr>\n",
       "    <tr>\n",
       "      <th>4</th>\n",
       "      <td>8/7/2020 12:13</td>\n",
       "      <td>Male</td>\n",
       "      <td>23.0</td>\n",
       "      <td>Mathemathics</td>\n",
       "      <td>year 4</td>\n",
       "      <td>3.00 - 3.49</td>\n",
       "      <td>No</td>\n",
       "      <td>No</td>\n",
       "      <td>No</td>\n",
       "      <td>No</td>\n",
       "      <td>No</td>\n",
       "    </tr>\n",
       "  </tbody>\n",
       "</table>\n",
       "</div>"
      ],
      "text/plain": [
       "        Timestamp Choose your gender   Age What is your course?  \\\n",
       "0  8/7/2020 12:02             Female  18.0          Engineering   \n",
       "1  8/7/2020 12:04               Male  21.0    Islamic education   \n",
       "2  8/7/2020 12:05               Male  19.0                  BIT   \n",
       "3  8/7/2020 12:06             Female  22.0                 Laws   \n",
       "4  8/7/2020 12:13               Male  23.0         Mathemathics   \n",
       "\n",
       "  Your current year of Study What is your CGPA? Marital status  \\\n",
       "0                     year 1        3.00 - 3.49             No   \n",
       "1                     year 2        3.00 - 3.49             No   \n",
       "2                     Year 1        3.00 - 3.49             No   \n",
       "3                     year 3        3.00 - 3.49            Yes   \n",
       "4                     year 4        3.00 - 3.49             No   \n",
       "\n",
       "  Do you have Depression? Do you have Anxiety? Do you have Panic attack?  \\\n",
       "0                     Yes                   No                       Yes   \n",
       "1                      No                  Yes                        No   \n",
       "2                     Yes                  Yes                       Yes   \n",
       "3                     Yes                   No                        No   \n",
       "4                      No                   No                        No   \n",
       "\n",
       "  Did you seek any specialist for a treatment?  \n",
       "0                                           No  \n",
       "1                                           No  \n",
       "2                                           No  \n",
       "3                                           No  \n",
       "4                                           No  "
      ]
     },
     "execution_count": 2,
     "metadata": {},
     "output_type": "execute_result"
    }
   ],
   "source": [
    "# Data is retrieved from https://www.kaggle.com/datasets/shariful07/student-mental-health\n",
    "df.head()"
   ]
  },
  {
   "cell_type": "code",
   "execution_count": 3,
   "metadata": {},
   "outputs": [
    {
     "data": {
      "text/plain": [
       "(101, 11)"
      ]
     },
     "execution_count": 3,
     "metadata": {},
     "output_type": "execute_result"
    }
   ],
   "source": [
    "df.shape"
   ]
  },
  {
   "cell_type": "code",
   "execution_count": 4,
   "metadata": {},
   "outputs": [
    {
     "data": {
      "text/plain": [
       "Timestamp                                        object\n",
       "Choose your gender                               object\n",
       "Age                                             float64\n",
       "What is your course?                             object\n",
       "Your current year of Study                       object\n",
       "What is your CGPA?                               object\n",
       "Marital status                                   object\n",
       "Do you have Depression?                          object\n",
       "Do you have Anxiety?                             object\n",
       "Do you have Panic attack?                        object\n",
       "Did you seek any specialist for a treatment?     object\n",
       "dtype: object"
      ]
     },
     "execution_count": 4,
     "metadata": {},
     "output_type": "execute_result"
    }
   ],
   "source": [
    "df.dtypes"
   ]
  },
  {
   "cell_type": "code",
   "execution_count": 5,
   "metadata": {},
   "outputs": [],
   "source": [
    "df.columns = ['Timestamp', 'Gender', 'Age', 'Course', 'Year', 'CGPA', 'Marital_Status', 'Depression', 'Anxiety', 'Panic_Attack', 'Seek_treatment']"
   ]
  },
  {
   "cell_type": "code",
   "execution_count": 6,
   "metadata": {},
   "outputs": [
    {
     "name": "stdout",
     "output_type": "stream",
     "text": [
      "Timestamp         0\n",
      "Gender            0\n",
      "Age               0\n",
      "Course            0\n",
      "Year              0\n",
      "CGPA              0\n",
      "Marital_Status    0\n",
      "Depression        0\n",
      "Anxiety           0\n",
      "Panic_Attack      0\n",
      "Seek_treatment    0\n",
      "dtype: int64\n"
     ]
    }
   ],
   "source": [
    "# Preprocess data\n",
    "def clean_data(data):\n",
    "    data.Age.fillna(data.Age.mean(), inplace=True)\n",
    "    data['Course'].replace({'engin': 'Engineering' , 'Engine':'Engineering' , 'Islamic education':'Islamic Education' , 'Pendidikan islam':'Pendidikan Islam' , 'BIT':'IT', 'psychology':'Psychology', 'koe': 'Koe', 'Kirkhs': 'Irkhs', 'KIRKHS': 'Irkhs', 'Benl': 'BENL', 'Fiqh fatwa ': 'Fiqh', 'Laws': 'Law'} , inplace = True)\n",
    "    data['Year'].replace({'year 1':1, 'year 2':2, 'Year 1':1, 'year 3':3, 'year 4':4, 'Year 2':2, 'Year 3':3}, inplace = True)\n",
    "    data['Marital_Status'].replace({'No':\"Unmarried\", 'Yes':\"Married\"}, inplace = True)\n",
    "    data.head()\n",
    "    return data\n",
    "\n",
    "df = clean_data(df)\n",
    "print(df.isnull().sum())"
   ]
  },
  {
   "cell_type": "code",
   "execution_count": 7,
   "metadata": {},
   "outputs": [
    {
     "data": {
      "text/html": [
       "<div>\n",
       "<style scoped>\n",
       "    .dataframe tbody tr th:only-of-type {\n",
       "        vertical-align: middle;\n",
       "    }\n",
       "\n",
       "    .dataframe tbody tr th {\n",
       "        vertical-align: top;\n",
       "    }\n",
       "\n",
       "    .dataframe thead th {\n",
       "        text-align: right;\n",
       "    }\n",
       "</style>\n",
       "<table border=\"1\" class=\"dataframe\">\n",
       "  <thead>\n",
       "    <tr style=\"text-align: right;\">\n",
       "      <th></th>\n",
       "      <th>Timestamp</th>\n",
       "      <th>Gender</th>\n",
       "      <th>Age</th>\n",
       "      <th>Course</th>\n",
       "      <th>Year</th>\n",
       "      <th>CGPA</th>\n",
       "      <th>Marital_Status</th>\n",
       "      <th>Depression</th>\n",
       "      <th>Anxiety</th>\n",
       "      <th>Panic_Attack</th>\n",
       "      <th>Seek_treatment</th>\n",
       "    </tr>\n",
       "  </thead>\n",
       "  <tbody>\n",
       "    <tr>\n",
       "      <th>0</th>\n",
       "      <td>8/7/2020 12:02</td>\n",
       "      <td>Female</td>\n",
       "      <td>18.0</td>\n",
       "      <td>Engineering</td>\n",
       "      <td>1</td>\n",
       "      <td>3.00 - 3.49</td>\n",
       "      <td>Unmarried</td>\n",
       "      <td>Yes</td>\n",
       "      <td>No</td>\n",
       "      <td>Yes</td>\n",
       "      <td>No</td>\n",
       "    </tr>\n",
       "    <tr>\n",
       "      <th>1</th>\n",
       "      <td>8/7/2020 12:04</td>\n",
       "      <td>Male</td>\n",
       "      <td>21.0</td>\n",
       "      <td>Islamic Education</td>\n",
       "      <td>2</td>\n",
       "      <td>3.00 - 3.49</td>\n",
       "      <td>Unmarried</td>\n",
       "      <td>No</td>\n",
       "      <td>Yes</td>\n",
       "      <td>No</td>\n",
       "      <td>No</td>\n",
       "    </tr>\n",
       "    <tr>\n",
       "      <th>2</th>\n",
       "      <td>8/7/2020 12:05</td>\n",
       "      <td>Male</td>\n",
       "      <td>19.0</td>\n",
       "      <td>IT</td>\n",
       "      <td>1</td>\n",
       "      <td>3.00 - 3.49</td>\n",
       "      <td>Unmarried</td>\n",
       "      <td>Yes</td>\n",
       "      <td>Yes</td>\n",
       "      <td>Yes</td>\n",
       "      <td>No</td>\n",
       "    </tr>\n",
       "    <tr>\n",
       "      <th>3</th>\n",
       "      <td>8/7/2020 12:06</td>\n",
       "      <td>Female</td>\n",
       "      <td>22.0</td>\n",
       "      <td>Law</td>\n",
       "      <td>3</td>\n",
       "      <td>3.00 - 3.49</td>\n",
       "      <td>Married</td>\n",
       "      <td>Yes</td>\n",
       "      <td>No</td>\n",
       "      <td>No</td>\n",
       "      <td>No</td>\n",
       "    </tr>\n",
       "    <tr>\n",
       "      <th>4</th>\n",
       "      <td>8/7/2020 12:13</td>\n",
       "      <td>Male</td>\n",
       "      <td>23.0</td>\n",
       "      <td>Mathemathics</td>\n",
       "      <td>4</td>\n",
       "      <td>3.00 - 3.49</td>\n",
       "      <td>Unmarried</td>\n",
       "      <td>No</td>\n",
       "      <td>No</td>\n",
       "      <td>No</td>\n",
       "      <td>No</td>\n",
       "    </tr>\n",
       "  </tbody>\n",
       "</table>\n",
       "</div>"
      ],
      "text/plain": [
       "        Timestamp  Gender   Age             Course  Year         CGPA  \\\n",
       "0  8/7/2020 12:02  Female  18.0        Engineering     1  3.00 - 3.49   \n",
       "1  8/7/2020 12:04    Male  21.0  Islamic Education     2  3.00 - 3.49   \n",
       "2  8/7/2020 12:05    Male  19.0                 IT     1  3.00 - 3.49   \n",
       "3  8/7/2020 12:06  Female  22.0                Law     3  3.00 - 3.49   \n",
       "4  8/7/2020 12:13    Male  23.0       Mathemathics     4  3.00 - 3.49   \n",
       "\n",
       "  Marital_Status Depression Anxiety Panic_Attack Seek_treatment  \n",
       "0      Unmarried        Yes      No          Yes             No  \n",
       "1      Unmarried         No     Yes           No             No  \n",
       "2      Unmarried        Yes     Yes          Yes             No  \n",
       "3        Married        Yes      No           No             No  \n",
       "4      Unmarried         No      No           No             No  "
      ]
     },
     "execution_count": 7,
     "metadata": {},
     "output_type": "execute_result"
    }
   ],
   "source": [
    "df.head()"
   ]
  },
  {
   "cell_type": "code",
   "execution_count": 8,
   "metadata": {},
   "outputs": [
    {
     "data": {
      "text/html": [
       "<div>\n",
       "<style scoped>\n",
       "    .dataframe tbody tr th:only-of-type {\n",
       "        vertical-align: middle;\n",
       "    }\n",
       "\n",
       "    .dataframe tbody tr th {\n",
       "        vertical-align: top;\n",
       "    }\n",
       "\n",
       "    .dataframe thead th {\n",
       "        text-align: right;\n",
       "    }\n",
       "</style>\n",
       "<table border=\"1\" class=\"dataframe\">\n",
       "  <thead>\n",
       "    <tr style=\"text-align: right;\">\n",
       "      <th></th>\n",
       "      <th>Age</th>\n",
       "      <th>Year</th>\n",
       "    </tr>\n",
       "  </thead>\n",
       "  <tbody>\n",
       "    <tr>\n",
       "      <th>count</th>\n",
       "      <td>101.000000</td>\n",
       "      <td>101.000000</td>\n",
       "    </tr>\n",
       "    <tr>\n",
       "      <th>mean</th>\n",
       "      <td>20.530000</td>\n",
       "      <td>1.970297</td>\n",
       "    </tr>\n",
       "    <tr>\n",
       "      <th>std</th>\n",
       "      <td>2.483767</td>\n",
       "      <td>0.994540</td>\n",
       "    </tr>\n",
       "    <tr>\n",
       "      <th>min</th>\n",
       "      <td>18.000000</td>\n",
       "      <td>1.000000</td>\n",
       "    </tr>\n",
       "    <tr>\n",
       "      <th>25%</th>\n",
       "      <td>18.000000</td>\n",
       "      <td>1.000000</td>\n",
       "    </tr>\n",
       "    <tr>\n",
       "      <th>50%</th>\n",
       "      <td>19.000000</td>\n",
       "      <td>2.000000</td>\n",
       "    </tr>\n",
       "    <tr>\n",
       "      <th>75%</th>\n",
       "      <td>23.000000</td>\n",
       "      <td>3.000000</td>\n",
       "    </tr>\n",
       "    <tr>\n",
       "      <th>max</th>\n",
       "      <td>24.000000</td>\n",
       "      <td>4.000000</td>\n",
       "    </tr>\n",
       "  </tbody>\n",
       "</table>\n",
       "</div>"
      ],
      "text/plain": [
       "              Age        Year\n",
       "count  101.000000  101.000000\n",
       "mean    20.530000    1.970297\n",
       "std      2.483767    0.994540\n",
       "min     18.000000    1.000000\n",
       "25%     18.000000    1.000000\n",
       "50%     19.000000    2.000000\n",
       "75%     23.000000    3.000000\n",
       "max     24.000000    4.000000"
      ]
     },
     "execution_count": 8,
     "metadata": {},
     "output_type": "execute_result"
    }
   ],
   "source": [
    "df.describe()"
   ]
  },
  {
   "cell_type": "code",
   "execution_count": 9,
   "metadata": {},
   "outputs": [
    {
     "name": "stdout",
     "output_type": "stream",
     "text": [
      "Predict mental disorder(['Depression', 'Anxiety', 'Panic_Attack']) using the following attributes \n",
      "         'Gender', 'Age', 'Course', 'Year', 'CGPA', 'Marital_Status', 'Course' and 'CGPA'\n"
     ]
    },
    {
     "name": "stderr",
     "output_type": "stream",
     "text": [
      "/var/folders/ty/y4xvm4r16qg653znp8pq00bw0000gn/T/ipykernel_33244/1677399729.py:4: SettingWithCopyWarning: \n",
      "A value is trying to be set on a copy of a slice from a DataFrame\n",
      "\n",
      "See the caveats in the documentation: https://pandas.pydata.org/pandas-docs/stable/user_guide/indexing.html#returning-a-view-versus-a-copy\n",
      "  X['Gender'].replace({'Female':0, \"Male\":1}, inplace = True)\n",
      "/var/folders/ty/y4xvm4r16qg653znp8pq00bw0000gn/T/ipykernel_33244/1677399729.py:5: SettingWithCopyWarning: \n",
      "A value is trying to be set on a copy of a slice from a DataFrame\n",
      "\n",
      "See the caveats in the documentation: https://pandas.pydata.org/pandas-docs/stable/user_guide/indexing.html#returning-a-view-versus-a-copy\n",
      "  X['Marital_Status'].replace({'Unmarried':0, 'Married':1}, inplace = True)\n"
     ]
    }
   ],
   "source": [
    "# Transform the data so that it is trainable\n",
    "\n",
    "X = df[['Gender', 'Age', 'Course', 'Year', 'CGPA', 'Marital_Status']]\n",
    "X['Gender'].replace({'Female':0, \"Male\":1}, inplace = True)\n",
    "X['Marital_Status'].replace({'Unmarried':0, 'Married':1}, inplace = True)\n",
    "\n",
    "one_hot_course = pd.get_dummies(df['Course'])\n",
    "X = pd.concat([X, one_hot_course], axis=1)\n",
    "\n",
    "one_hot_cgpa = pd.get_dummies(df['CGPA'])\n",
    "X = pd.concat([X, one_hot_cgpa], axis=1)\n",
    "\n",
    "X.drop(columns = ['Course', 'CGPA'], inplace = True)\n",
    "\n",
    "Y_depression = df['Depression'].replace({'No':0, 'Yes':1})\n",
    "Y_anxiety = df['Anxiety'].replace({'No':0, 'Yes':1})\n",
    "Y_panic_attack = df['Panic_Attack'].replace({'No':0, 'Yes':1})\n",
    "\n",
    "Y = [Y_depression, Y_anxiety, Y_panic_attack]\n",
    "Y_category = ['Depression', 'Anxiety', 'Panic_Attack']\n",
    "\n",
    "print(f\"Predict mental disorder({Y_category}) using the following attributes \\n         'Gender', 'Age', 'Course', 'Year', 'CGPA', 'Marital_Status', 'Course' and 'CGPA'\")"
   ]
  },
  {
   "cell_type": "code",
   "execution_count": 10,
   "metadata": {},
   "outputs": [
    {
     "name": "stdout",
     "output_type": "stream",
     "text": [
      "f1-score of models for predicting each mental health disorder\n",
      "            ['Logistic Regression', 'Random Forest', 'Naive Bayes', 'XGBoost', 'Multi-Layer Perceptron']\n",
      "Depression: [0.8328912466843501, 0.5050505050505051, 0.3571428571428572, 0.7407407407407407, 0.6111111111111112]\n",
      "Anxiety: [0.5714285714285715, 0.4324324324324324, 0.25882352941176473, 0.637037037037037, 0.5714285714285714]\n",
      "Panic_Attack: [0.505050505050505, 0.41666666666666663, 0.2932692307692307, 0.4750000000000001, 0.60625]\n",
      "\n",
      "\n",
      "Best model for Depression: Logistic Regression with f1 score of 0.8328912466843501\n",
      "Best model for Anxiety: XGBoost with f1 score of 0.637037037037037\n",
      "Best model for Panic_Attack: Multi-Layer Perceptron with f1 score of 0.60625\n",
      "\n",
      "\n",
      "Fl-score: 0.8328912466843501\n"
     ]
    },
    {
     "data": {
      "image/png": "[encoded data removed]",
      "text/plain": [
       "<Figure size 800x600 with 2 Axes>"
      ]
     },
     "metadata": {},
     "output_type": "display_data"
    },
    {
     "name": "stdout",
     "output_type": "stream",
     "text": [
      "Fl-score: 0.637037037037037\n"
     ]
    },
    {
     "data": {
      "image/png": "[encoded data removed]",
      "text/plain": [
       "<Figure size 800x600 with 2 Axes>"
      ]
     },
     "metadata": {},
     "output_type": "display_data"
    },
    {
     "name": "stdout",
     "output_type": "stream",
     "text": [
      "Fl-score: 0.60625\n"
     ]
    },
    {
     "data": {
      "image/png": "[encoded data removed]",
      "text/plain": [
       "<Figure size 800x600 with 2 Axes>"
      ]
     },
     "metadata": {},
     "output_type": "display_data"
    }
   ],
   "source": [
    "from sklearn.model_selection import train_test_split\n",
    "from sklearn.linear_model import LogisticRegression\n",
    "from sklearn.ensemble import RandomForestClassifier\n",
    "from sklearn.naive_bayes import GaussianNB\n",
    "from sklearn.neural_network import MLPClassifier\n",
    "from sklearn.metrics import classification_report\n",
    "from sklearn.metrics import f1_score\n",
    "from sklearn.metrics import confusion_matrix\n",
    "import xgboost as xgb\n",
    "import seaborn as sns\n",
    "\n",
    "# Train 3 models to predict each mental health disorder seperately \n",
    "# As a respondent may suffer from more than a disease at the same time\n",
    "models = [LogisticRegression(max_iter=200, ), RandomForestClassifier(max_depth=2, random_state=0), GaussianNB(), xgb.XGBClassifier(), MLPClassifier(random_state=0, max_iter=1000, hidden_layer_sizes=(50, 50), activation='relu', solver='adam', alpha=0.0001)]\n",
    "model_name = ['Logistic Regression', 'Random Forest', 'Naive Bayes', 'XGBoost', 'Multi-Layer Perceptron']\n",
    "confusion_matricies = [] # Store confusion matricies\n",
    "f1_scores = []\n",
    "\n",
    "# Perform train-test split\n",
    "for i in range(3):\n",
    "    scores = []\n",
    "    temp_confusion_matricies = []\n",
    "    X_train, X_test, Y_train, Y_test = train_test_split(X, Y[i], test_size=0.2, random_state=42)\n",
    "    \n",
    "    for model in models:\n",
    "    # Train the logistic regression model\n",
    "        model.fit(X_train, Y_train)\n",
    "\n",
    "    # Make predictions on the test set\n",
    "        Y_pred = model.predict(X_test)\n",
    "\n",
    "    # Create confusion matrix\n",
    "        cm = confusion_matrix(Y_test, Y_pred)\n",
    "        temp_confusion_matricies.append(cm)\n",
    "        scores.append(f1_score(Y_test, Y_pred, average='macro'))\n",
    "\n",
    "    f1_scores.append(scores)\n",
    "    confusion_matricies.append(temp_confusion_matricies)\n",
    "print(\"f1-score of models for predicting each mental health disorder\")\n",
    "print(f\"            {model_name}\")\n",
    "for i in range(3):\n",
    "    print(f\"{Y_category[i]}: {f1_scores[i]}\")\n",
    "print('\\n')\n",
    "for i in range(3):\n",
    "    print(f\"Best model for {Y_category[i]}: {model_name[np.argmax(f1_scores[i])]} with f1 score of {f1_scores[i][np.argmax(f1_scores[i])]}\")\n",
    "print('\\n')\n",
    "for i in range(3):\n",
    "    best_index = f1_scores[i].index(max(f1_scores[i])) # Get the index of the best model\n",
    "\n",
    "    print(f\"Fl-score: {f1_scores[i][best_index]}\")\n",
    "    cm = confusion_matricies[i][best_index]\n",
    "\n",
    "    plt.figure(figsize=(8, 6))\n",
    "    sns.heatmap(cm, annot=True, cmap='Blues', fmt='g')\n",
    "    plt.xlabel('Predicted')\n",
    "    plt.ylabel('Actual')\n",
    "    plt.title(f'Confusion Matrix for prediciting {Y_category[i]} using {model_name[best_index]} ({f1_scores[i][best_index]:.4f})')\n",
    "    plt.show()\n"
   ]
  }
 ],
 "metadata": {
  "kernelspec": {
   "display_name": "Python 3",
   "language": "python",
   "name": "python3"
  },
  "language_info": {
   "codemirror_mode": {
    "name": "ipython",
    "version": 3
   },
   "file_extension": ".py",
   "mimetype": "text/x-python",
   "name": "python",
   "nbconvert_exporter": "python",
   "pygments_lexer": "ipython3",
   "version": "3.11.1"
  }
 },
 "nbformat": 4,
 "nbformat_minor": 2
}
